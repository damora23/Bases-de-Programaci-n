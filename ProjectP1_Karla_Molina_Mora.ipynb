{
 "cells": [
  {
   "cell_type": "markdown",
   "id": "c2a14d71-794c-40fb-986d-8e2d290eaf8e",
   "metadata": {},
   "source": [
    "###### .<center> **Proyecto Primer Parcial-Bases de Programación**"
   ]
  },
  {
   "cell_type": "markdown",
   "id": "b943f852-6a59-46a2-864d-4fb63f95bd08",
   "metadata": {},
   "source": [
    "\n",
    "\n",
    ". <center> *Tema: **\"Monitoreo de las Condiciones Climáticas en Estados Unidos, 2024\"*** \n",
    "-\n",
    ".<center>*Integrantes*:**Karla Filian// Juan Pablo Molina // Daniella Mora**\n",
    "\n"
   ]
  },
  {
   "cell_type": "code",
   "execution_count": 1,
   "id": "17abf59e-5ea1-46ce-b750-6ef82943c50c",
   "metadata": {},
   "outputs": [],
   "source": [
    "import pandas as pd\n",
    "import numpy as np\n",
    "import matplotlib.pyplot as plt\n",
    "import seaborn as sns\n",
    "import warnings\n",
    "warnings.filterwarnings(\"ignore\")"
   ]
  },
  {
   "cell_type": "markdown",
   "id": "5a8ec379-4c30-4f83-a906-1d9f8d02d487",
   "metadata": {},
   "source": [
    "## Introducción\n",
    "\n",
    "La Tierra a lo largo de su historia ha presentado fluctuaciones climáticas en diferentes ubicaciones geográficas. Con la aceleración de la contaminación por causas antropogénicas, la temperatura se destaca como una de las principales variables climáticas influenciadas por el calentamiento global cuyo aumento conlleva anomalías en la humedad y velocidad del viento generando impactos negativos en el bienestar humano y el mdeio ambiente (Adekayi, 2009).\n",
    "\n",
    "Identificar patrones metereológicos de zonas urbanas es crucial para determina posibles impactos en diversas áreas, desde la agricultura hasta la gestión de desastres naturales (Ryan et al., 2016). En el contexto del cambio climático y los eventos meteorológicos extremos cada vez más frecuentes, el año 2024 se presenta como un período crítico para el análisis y la interpretación de los datos climáticos en Estados Unidos.\n",
    "\n",
    "En las últimas décadas, Python se ha convertido como uno de los lenguajes de programación de código abierto más populares y robustos dentro de la communidad científica, ya que permite el análisis de grandes volúmenes de datos de forma eficiente, además de su versatilidad, amplia gama de bibliotecas especializadas y facilidad de uso (Chimarro et al., 2023)\n"
   ]
  },
  {
   "cell_type": "markdown",
   "id": "2e8c68ab-dedd-4ad1-b296-97235be2229c",
   "metadata": {
    "jp-MarkdownHeadingCollapsed": true
   },
   "source": [
    "## Objetivos\n",
    "### General\n",
    "Procesar datos climáticos en Estados Unidos durante el año 2024 mediante códigos de Python para la identificación de patrones con las variables de temperatura, precipitación, humedad y velocidad del viento.\n",
    "### Específicos \n",
    "* Definir funciones para limpiar y estructurar los datos para facilitar su análisis.\n",
    "* Calcular métricas estadísticas claves para las variables climáticas establecidas.\n",
    "* Crear gráficos y mapas que ilustren los patrones climáticos en Estados Unidos.\n"
   ]
  },
  {
   "cell_type": "markdown",
   "id": "179a2bb5-a23b-4fff-8f9f-2d9931e5f992",
   "metadata": {
    "jp-MarkdownHeadingCollapsed": true
   },
   "source": [
    "## Descripción de los datos\n",
    "\n",
    "La base de datos proporcionada para este proyecto contiene un total de 1,000,000 registros que capturan información detallada sobre las condiciones climáticas en diferentes ubicaciones de Estados Unidos. Cada registro en la base de datos incluye los siguientes campos:\n",
    "* Locación (Variable categórica): Zona geográfica en donde se tomaron las medidas\n",
    "* Fecha y Hora (Variable categórica): Con formato DD-MM-YYYY HH:MM, indicando el perídodo de tiempo en el  que se tomaron las mediciones.\n",
    "* Temperatura (°C) (Variable numérica):  Valor de la temperatura del aire en grados Celsius.\n",
    "* Humedad (%) (Variable numérica):Porcentaje de humedad relativa en el aire.\n",
    "* Precipitación (mm) (Variable numérica): Cantidad de precipitación anual acumulada en milímetros.\n",
    "* Velocidad del Viento (km/h)(Variable numérica): Medida en kilómetros por hora. "
   ]
  },
  {
   "cell_type": "markdown",
   "id": "042aa0c1-bedd-4fae-ad02-f5afb3e61fda",
   "metadata": {},
   "source": [
    "# Análisis exploratorio de los datos"
   ]
  },
  {
   "cell_type": "markdown",
   "id": "775f2307-6694-497d-bcb1-b351c061a38e",
   "metadata": {},
   "source": [
    "## 1. Carga y Preparación de Datos"
   ]
  },
  {
   "cell_type": "markdown",
   "id": "c484a1d2-eee1-471e-910e-b617291d28b5",
   "metadata": {},
   "source": [
    "### 1.1. Cargar el conjunto de datos utilizando pandas"
   ]
  },
  {
   "cell_type": "code",
   "execution_count": 2,
   "id": "59068e5e-9608-453c-b1dc-11b994979bae",
   "metadata": {},
   "outputs": [
    {
     "data": {
      "text/html": [
       "<div>\n",
       "<style scoped>\n",
       "    .dataframe tbody tr th:only-of-type {\n",
       "        vertical-align: middle;\n",
       "    }\n",
       "\n",
       "    .dataframe tbody tr th {\n",
       "        vertical-align: top;\n",
       "    }\n",
       "\n",
       "    .dataframe thead th {\n",
       "        text-align: right;\n",
       "    }\n",
       "</style>\n",
       "<table border=\"1\" class=\"dataframe\">\n",
       "  <thead>\n",
       "    <tr style=\"text-align: right;\">\n",
       "      <th></th>\n",
       "      <th>Location</th>\n",
       "      <th>Date_Time</th>\n",
       "      <th>Temperature_C</th>\n",
       "      <th>Humidity_pct</th>\n",
       "      <th>Precipitation_mm</th>\n",
       "      <th>Wind_Speed_kmh</th>\n",
       "    </tr>\n",
       "  </thead>\n",
       "  <tbody>\n",
       "    <tr>\n",
       "      <th>0</th>\n",
       "      <td>San Diego</td>\n",
       "      <td>1/14/2024 21:12</td>\n",
       "      <td>10.683001</td>\n",
       "      <td>41.195754</td>\n",
       "      <td>4.020119</td>\n",
       "      <td>8.233540</td>\n",
       "    </tr>\n",
       "    <tr>\n",
       "      <th>1</th>\n",
       "      <td>San Diego</td>\n",
       "      <td>5/17/2024 15:22</td>\n",
       "      <td>8.734140</td>\n",
       "      <td>58.319107</td>\n",
       "      <td>9.111623</td>\n",
       "      <td>27.715161</td>\n",
       "    </tr>\n",
       "    <tr>\n",
       "      <th>2</th>\n",
       "      <td>San Diego</td>\n",
       "      <td>5/11/2024 9:30</td>\n",
       "      <td>11.632436</td>\n",
       "      <td>38.820175</td>\n",
       "      <td>4.607511</td>\n",
       "      <td>28.732951</td>\n",
       "    </tr>\n",
       "    <tr>\n",
       "      <th>3</th>\n",
       "      <td>Philadelphia</td>\n",
       "      <td>2/26/2024 17:32</td>\n",
       "      <td>-8.628976</td>\n",
       "      <td>54.074474</td>\n",
       "      <td>3.183720</td>\n",
       "      <td>26.367303</td>\n",
       "    </tr>\n",
       "    <tr>\n",
       "      <th>4</th>\n",
       "      <td>San Antonio</td>\n",
       "      <td>4/29/2024 13:23</td>\n",
       "      <td>39.808213</td>\n",
       "      <td>72.899908</td>\n",
       "      <td>9.598282</td>\n",
       "      <td>29.898622</td>\n",
       "    </tr>\n",
       "    <tr>\n",
       "      <th>...</th>\n",
       "      <td>...</td>\n",
       "      <td>...</td>\n",
       "      <td>...</td>\n",
       "      <td>...</td>\n",
       "      <td>...</td>\n",
       "      <td>...</td>\n",
       "    </tr>\n",
       "    <tr>\n",
       "      <th>999995</th>\n",
       "      <td>Dallas</td>\n",
       "      <td>1/1/2024 20:29</td>\n",
       "      <td>23.416877</td>\n",
       "      <td>37.705024</td>\n",
       "      <td>3.819833</td>\n",
       "      <td>16.538119</td>\n",
       "    </tr>\n",
       "    <tr>\n",
       "      <th>999996</th>\n",
       "      <td>San Antonio</td>\n",
       "      <td>1/20/2024 15:59</td>\n",
       "      <td>6.759080</td>\n",
       "      <td>40.731036</td>\n",
       "      <td>8.182785</td>\n",
       "      <td>29.005558</td>\n",
       "    </tr>\n",
       "    <tr>\n",
       "      <th>999997</th>\n",
       "      <td>New York</td>\n",
       "      <td>4/14/2024 8:30</td>\n",
       "      <td>15.664465</td>\n",
       "      <td>62.201884</td>\n",
       "      <td>3.987558</td>\n",
       "      <td>0.403909</td>\n",
       "    </tr>\n",
       "    <tr>\n",
       "      <th>999998</th>\n",
       "      <td>Chicago</td>\n",
       "      <td>5/12/2024 20:10</td>\n",
       "      <td>18.999994</td>\n",
       "      <td>63.703245</td>\n",
       "      <td>4.294325</td>\n",
       "      <td>6.326036</td>\n",
       "    </tr>\n",
       "    <tr>\n",
       "      <th>999999</th>\n",
       "      <td>New York</td>\n",
       "      <td>4/16/2024 16:11</td>\n",
       "      <td>10.725351</td>\n",
       "      <td>43.804584</td>\n",
       "      <td>1.883292</td>\n",
       "      <td>15.363828</td>\n",
       "    </tr>\n",
       "  </tbody>\n",
       "</table>\n",
       "<p>1000000 rows × 6 columns</p>\n",
       "</div>"
      ],
      "text/plain": [
       "            Location        Date_Time  Temperature_C  Humidity_pct  \\\n",
       "0          San Diego  1/14/2024 21:12      10.683001     41.195754   \n",
       "1          San Diego  5/17/2024 15:22       8.734140     58.319107   \n",
       "2          San Diego   5/11/2024 9:30      11.632436     38.820175   \n",
       "3       Philadelphia  2/26/2024 17:32      -8.628976     54.074474   \n",
       "4        San Antonio  4/29/2024 13:23      39.808213     72.899908   \n",
       "...              ...              ...            ...           ...   \n",
       "999995        Dallas   1/1/2024 20:29      23.416877     37.705024   \n",
       "999996   San Antonio  1/20/2024 15:59       6.759080     40.731036   \n",
       "999997      New York   4/14/2024 8:30      15.664465     62.201884   \n",
       "999998       Chicago  5/12/2024 20:10      18.999994     63.703245   \n",
       "999999      New York  4/16/2024 16:11      10.725351     43.804584   \n",
       "\n",
       "        Precipitation_mm  Wind_Speed_kmh  \n",
       "0               4.020119        8.233540  \n",
       "1               9.111623       27.715161  \n",
       "2               4.607511       28.732951  \n",
       "3               3.183720       26.367303  \n",
       "4               9.598282       29.898622  \n",
       "...                  ...             ...  \n",
       "999995          3.819833       16.538119  \n",
       "999996          8.182785       29.005558  \n",
       "999997          3.987558        0.403909  \n",
       "999998          4.294325        6.326036  \n",
       "999999          1.883292       15.363828  \n",
       "\n",
       "[1000000 rows x 6 columns]"
      ]
     },
     "execution_count": 2,
     "metadata": {},
     "output_type": "execute_result"
    }
   ],
   "source": [
    "df = pd.read_csv(\"Weather_Data-1.csv\")\n",
    "df"
   ]
  },
  {
   "cell_type": "code",
   "execution_count": 3,
   "id": "5d0f9360-5c31-41c9-aa9b-9b69188a6687",
   "metadata": {},
   "outputs": [
    {
     "data": {
      "text/plain": [
       "Index(['Location', 'Date_Time', 'Temperature_C', 'Humidity_pct',\n",
       "       'Precipitation_mm', 'Wind_Speed_kmh'],\n",
       "      dtype='object')"
      ]
     },
     "execution_count": 3,
     "metadata": {},
     "output_type": "execute_result"
    }
   ],
   "source": [
    "df.columns"
   ]
  },
  {
   "cell_type": "markdown",
   "id": "c6dfd962-7bc0-4a0d-b563-cee0a022774f",
   "metadata": {},
   "source": [
    "### 1.2. Realizar limpieza básica de datos, eliminando duplicados y modificando los tipos de datos en caso de ser necesario."
   ]
  },
  {
   "cell_type": "code",
   "execution_count": 4,
   "id": "61b6f4aa-65f0-4936-904a-13edd24950ff",
   "metadata": {},
   "outputs": [
    {
     "data": {
      "text/plain": [
       "'Location'"
      ]
     },
     "execution_count": 4,
     "metadata": {},
     "output_type": "execute_result"
    }
   ],
   "source": [
    "col_dup = \"Location;Date_Time\"\n",
    "col_dup.split(\";\")[0]"
   ]
  },
  {
   "cell_type": "markdown",
   "id": "927807a6-aabe-4059-a9fb-25daf8be4f5f",
   "metadata": {},
   "source": [
    "***1.2.1 Se define la función *cleaning* la cual elimina datos nulos, elimina duplicados con base a las columnas \"Location y \"Data_Time\" qudándose con la última fila y devuelve el data frame original reseteado por índice*** "
   ]
  },
  {
   "cell_type": "code",
   "execution_count": 5,
   "id": "ad1009be-bca1-4294-a4e0-9f1566207840",
   "metadata": {},
   "outputs": [],
   "source": [
    "def cleaning(df):\n",
    "    col = df.columns\n",
    "    df.dropna()\n",
    "    df_drop = df.drop_duplicates(subset=[col_dup.split(\";\")[0], col_dup.split(\";\")[1]], keep='last')\n",
    "    df_drop = df_drop.reset_index(drop = True)\n",
    "    return df_drop\n",
    "        \n",
    "\n",
    "#.drop(columns=\"index\",inplace=True)"
   ]
  },
  {
   "cell_type": "code",
   "execution_count": 6,
   "id": "f52ffae3-65dd-49e6-a5e5-f2703ede88c1",
   "metadata": {},
   "outputs": [],
   "source": [
    "df_drop = cleaning(df)"
   ]
  },
  {
   "cell_type": "markdown",
   "id": "d37c1f09-1e26-4d60-95bb-7ca64f745582",
   "metadata": {},
   "source": [
    "### 1.3. Realizar resumen estadístico de los datos"
   ]
  },
  {
   "cell_type": "markdown",
   "id": "8665926f-9bd2-4a85-901c-2dc67e029677",
   "metadata": {},
   "source": [
    "***1.3.1. Con el método describe() se obtiene un resumen estadístico general sobre las variables numéricas del data frame***"
   ]
  },
  {
   "cell_type": "code",
   "execution_count": 7,
   "id": "f64f17bd-e2eb-45df-a14b-a72023b9809d",
   "metadata": {},
   "outputs": [
    {
     "data": {
      "text/html": [
       "<div>\n",
       "<style scoped>\n",
       "    .dataframe tbody tr th:only-of-type {\n",
       "        vertical-align: middle;\n",
       "    }\n",
       "\n",
       "    .dataframe tbody tr th {\n",
       "        vertical-align: top;\n",
       "    }\n",
       "\n",
       "    .dataframe thead th {\n",
       "        text-align: right;\n",
       "    }\n",
       "</style>\n",
       "<table border=\"1\" class=\"dataframe\">\n",
       "  <thead>\n",
       "    <tr style=\"text-align: right;\">\n",
       "      <th></th>\n",
       "      <th>Temperature_C</th>\n",
       "      <th>Humidity_pct</th>\n",
       "      <th>Precipitation_mm</th>\n",
       "      <th>Wind_Speed_kmh</th>\n",
       "    </tr>\n",
       "  </thead>\n",
       "  <tbody>\n",
       "    <tr>\n",
       "      <th>count</th>\n",
       "      <td>786469.000000</td>\n",
       "      <td>786469.000000</td>\n",
       "      <td>786469.000000</td>\n",
       "      <td>786469.000000</td>\n",
       "    </tr>\n",
       "    <tr>\n",
       "      <th>mean</th>\n",
       "      <td>14.783508</td>\n",
       "      <td>60.026743</td>\n",
       "      <td>5.112177</td>\n",
       "      <td>14.993974</td>\n",
       "    </tr>\n",
       "    <tr>\n",
       "      <th>std</th>\n",
       "      <td>14.482845</td>\n",
       "      <td>17.325790</td>\n",
       "      <td>2.947179</td>\n",
       "      <td>8.663499</td>\n",
       "    </tr>\n",
       "    <tr>\n",
       "      <th>min</th>\n",
       "      <td>-19.969311</td>\n",
       "      <td>30.000009</td>\n",
       "      <td>0.000009</td>\n",
       "      <td>0.000051</td>\n",
       "    </tr>\n",
       "    <tr>\n",
       "      <th>25%</th>\n",
       "      <td>2.273495</td>\n",
       "      <td>45.009043</td>\n",
       "      <td>2.585784</td>\n",
       "      <td>7.480009</td>\n",
       "    </tr>\n",
       "    <tr>\n",
       "      <th>50%</th>\n",
       "      <td>14.782294</td>\n",
       "      <td>60.019609</td>\n",
       "      <td>5.113508</td>\n",
       "      <td>14.990614</td>\n",
       "    </tr>\n",
       "    <tr>\n",
       "      <th>75%</th>\n",
       "      <td>27.278911</td>\n",
       "      <td>75.045916</td>\n",
       "      <td>7.614714</td>\n",
       "      <td>22.509069</td>\n",
       "    </tr>\n",
       "    <tr>\n",
       "      <th>max</th>\n",
       "      <td>39.999801</td>\n",
       "      <td>89.999929</td>\n",
       "      <td>14.971583</td>\n",
       "      <td>29.999973</td>\n",
       "    </tr>\n",
       "  </tbody>\n",
       "</table>\n",
       "</div>"
      ],
      "text/plain": [
       "       Temperature_C   Humidity_pct  Precipitation_mm  Wind_Speed_kmh\n",
       "count  786469.000000  786469.000000     786469.000000   786469.000000\n",
       "mean       14.783508      60.026743          5.112177       14.993974\n",
       "std        14.482845      17.325790          2.947179        8.663499\n",
       "min       -19.969311      30.000009          0.000009        0.000051\n",
       "25%         2.273495      45.009043          2.585784        7.480009\n",
       "50%        14.782294      60.019609          5.113508       14.990614\n",
       "75%        27.278911      75.045916          7.614714       22.509069\n",
       "max        39.999801      89.999929         14.971583       29.999973"
      ]
     },
     "execution_count": 7,
     "metadata": {},
     "output_type": "execute_result"
    }
   ],
   "source": [
    "df_drop.describe()"
   ]
  },
  {
   "cell_type": "markdown",
   "id": "1a4529ed-45e1-4ee3-af21-3c43ee39de14",
   "metadata": {},
   "source": [
    "***1.3.2. Se utiliza la variable df_drop que contiene la función cleaning previamente creada para obtener el data frame de este proyecto \"limpio\"***"
   ]
  },
  {
   "cell_type": "code",
   "execution_count": 8,
   "id": "42e19335-61e4-4ed9-abed-b209ef8f9f61",
   "metadata": {},
   "outputs": [
    {
     "data": {
      "text/html": [
       "<div>\n",
       "<style scoped>\n",
       "    .dataframe tbody tr th:only-of-type {\n",
       "        vertical-align: middle;\n",
       "    }\n",
       "\n",
       "    .dataframe tbody tr th {\n",
       "        vertical-align: top;\n",
       "    }\n",
       "\n",
       "    .dataframe thead th {\n",
       "        text-align: right;\n",
       "    }\n",
       "</style>\n",
       "<table border=\"1\" class=\"dataframe\">\n",
       "  <thead>\n",
       "    <tr style=\"text-align: right;\">\n",
       "      <th></th>\n",
       "      <th>Location</th>\n",
       "      <th>Date_Time</th>\n",
       "      <th>Temperature_C</th>\n",
       "      <th>Humidity_pct</th>\n",
       "      <th>Precipitation_mm</th>\n",
       "      <th>Wind_Speed_kmh</th>\n",
       "    </tr>\n",
       "  </thead>\n",
       "  <tbody>\n",
       "    <tr>\n",
       "      <th>0</th>\n",
       "      <td>San Diego</td>\n",
       "      <td>5/11/2024 9:30</td>\n",
       "      <td>11.632436</td>\n",
       "      <td>38.820175</td>\n",
       "      <td>4.607511</td>\n",
       "      <td>28.732951</td>\n",
       "    </tr>\n",
       "    <tr>\n",
       "      <th>1</th>\n",
       "      <td>Philadelphia</td>\n",
       "      <td>2/26/2024 17:32</td>\n",
       "      <td>-8.628976</td>\n",
       "      <td>54.074474</td>\n",
       "      <td>3.183720</td>\n",
       "      <td>26.367303</td>\n",
       "    </tr>\n",
       "    <tr>\n",
       "      <th>2</th>\n",
       "      <td>San Antonio</td>\n",
       "      <td>4/29/2024 13:23</td>\n",
       "      <td>39.808213</td>\n",
       "      <td>72.899908</td>\n",
       "      <td>9.598282</td>\n",
       "      <td>29.898622</td>\n",
       "    </tr>\n",
       "    <tr>\n",
       "      <th>3</th>\n",
       "      <td>San Diego</td>\n",
       "      <td>1/21/2024 8:54</td>\n",
       "      <td>27.341055</td>\n",
       "      <td>49.023236</td>\n",
       "      <td>9.166543</td>\n",
       "      <td>27.473896</td>\n",
       "    </tr>\n",
       "    <tr>\n",
       "      <th>4</th>\n",
       "      <td>San Jose</td>\n",
       "      <td>1/13/2024 2:10</td>\n",
       "      <td>1.881883</td>\n",
       "      <td>65.742325</td>\n",
       "      <td>0.221709</td>\n",
       "      <td>1.073112</td>\n",
       "    </tr>\n",
       "    <tr>\n",
       "      <th>...</th>\n",
       "      <td>...</td>\n",
       "      <td>...</td>\n",
       "      <td>...</td>\n",
       "      <td>...</td>\n",
       "      <td>...</td>\n",
       "      <td>...</td>\n",
       "    </tr>\n",
       "    <tr>\n",
       "      <th>786464</th>\n",
       "      <td>Dallas</td>\n",
       "      <td>1/1/2024 20:29</td>\n",
       "      <td>23.416877</td>\n",
       "      <td>37.705024</td>\n",
       "      <td>3.819833</td>\n",
       "      <td>16.538119</td>\n",
       "    </tr>\n",
       "    <tr>\n",
       "      <th>786465</th>\n",
       "      <td>San Antonio</td>\n",
       "      <td>1/20/2024 15:59</td>\n",
       "      <td>6.759080</td>\n",
       "      <td>40.731036</td>\n",
       "      <td>8.182785</td>\n",
       "      <td>29.005558</td>\n",
       "    </tr>\n",
       "    <tr>\n",
       "      <th>786466</th>\n",
       "      <td>New York</td>\n",
       "      <td>4/14/2024 8:30</td>\n",
       "      <td>15.664465</td>\n",
       "      <td>62.201884</td>\n",
       "      <td>3.987558</td>\n",
       "      <td>0.403909</td>\n",
       "    </tr>\n",
       "    <tr>\n",
       "      <th>786467</th>\n",
       "      <td>Chicago</td>\n",
       "      <td>5/12/2024 20:10</td>\n",
       "      <td>18.999994</td>\n",
       "      <td>63.703245</td>\n",
       "      <td>4.294325</td>\n",
       "      <td>6.326036</td>\n",
       "    </tr>\n",
       "    <tr>\n",
       "      <th>786468</th>\n",
       "      <td>New York</td>\n",
       "      <td>4/16/2024 16:11</td>\n",
       "      <td>10.725351</td>\n",
       "      <td>43.804584</td>\n",
       "      <td>1.883292</td>\n",
       "      <td>15.363828</td>\n",
       "    </tr>\n",
       "  </tbody>\n",
       "</table>\n",
       "<p>786469 rows × 6 columns</p>\n",
       "</div>"
      ],
      "text/plain": [
       "            Location        Date_Time  Temperature_C  Humidity_pct  \\\n",
       "0          San Diego   5/11/2024 9:30      11.632436     38.820175   \n",
       "1       Philadelphia  2/26/2024 17:32      -8.628976     54.074474   \n",
       "2        San Antonio  4/29/2024 13:23      39.808213     72.899908   \n",
       "3          San Diego   1/21/2024 8:54      27.341055     49.023236   \n",
       "4           San Jose   1/13/2024 2:10       1.881883     65.742325   \n",
       "...              ...              ...            ...           ...   \n",
       "786464        Dallas   1/1/2024 20:29      23.416877     37.705024   \n",
       "786465   San Antonio  1/20/2024 15:59       6.759080     40.731036   \n",
       "786466      New York   4/14/2024 8:30      15.664465     62.201884   \n",
       "786467       Chicago  5/12/2024 20:10      18.999994     63.703245   \n",
       "786468      New York  4/16/2024 16:11      10.725351     43.804584   \n",
       "\n",
       "        Precipitation_mm  Wind_Speed_kmh  \n",
       "0               4.607511       28.732951  \n",
       "1               3.183720       26.367303  \n",
       "2               9.598282       29.898622  \n",
       "3               9.166543       27.473896  \n",
       "4               0.221709        1.073112  \n",
       "...                  ...             ...  \n",
       "786464          3.819833       16.538119  \n",
       "786465          8.182785       29.005558  \n",
       "786466          3.987558        0.403909  \n",
       "786467          4.294325        6.326036  \n",
       "786468          1.883292       15.363828  \n",
       "\n",
       "[786469 rows x 6 columns]"
      ]
     },
     "execution_count": 8,
     "metadata": {},
     "output_type": "execute_result"
    }
   ],
   "source": [
    "df_drop"
   ]
  },
  {
   "cell_type": "markdown",
   "id": "bd41609b-6cac-4fdb-b2cf-57e482606b4f",
   "metadata": {},
   "source": [
    "## 2. Automatización del Análisis Exploratorio de Datos (EDA):"
   ]
  },
  {
   "cell_type": "markdown",
   "id": "c886c753-df9c-44a0-ad26-230db9c489aa",
   "metadata": {},
   "source": [
    "### 2.1. Utilizar estructuras de datos para almacenar y manipular información relevante. Pueden ser algunas columnas del conjunto de datos"
   ]
  },
  {
   "cell_type": "markdown",
   "id": "6b2de709-2f95-46a9-894f-4fd203080a74",
   "metadata": {},
   "source": [
    "***2.1.1. Se agrega las columnas Month y Year completándose con la información de meses y año provenientes de la columna Date_Time permitiendo trabajar con las fechas de manera más eficiente***"
   ]
  },
  {
   "cell_type": "code",
   "execution_count": 9,
   "id": "68d61406-2f12-4c98-95e6-6bef0b602b89",
   "metadata": {},
   "outputs": [],
   "source": [
    "col_eda = \"Date_Time\"\n",
    "months = [\"Enero\", \"Febrero\", \"Marzo\", \"Abril\", \"Mayo\", \"Junio\",\n",
    "         \"Julio\", \"Agosto\", \"Septiembre\", \"Octubre\", \"Noviembre\", \"Diciembre\"]\n",
    "df_eda = df_drop"
   ]
  },
  {
   "cell_type": "code",
   "execution_count": 10,
   "id": "f5f8f9ab-8bcf-423f-ab7d-1fbf88c90d17",
   "metadata": {},
   "outputs": [],
   "source": [
    "df_eda[col_eda] = pd.to_datetime(df_eda[col_eda])"
   ]
  },
  {
   "cell_type": "code",
   "execution_count": 11,
   "id": "6f49566d-65c8-4249-9ff5-ecc655385d00",
   "metadata": {},
   "outputs": [],
   "source": [
    "df_eda[\"Month\"] = df_eda[col_eda].dt.month\n",
    "df_eda[\"Year\"] = df_eda[col_eda].dt.year\n",
    "\n",
    "df_eda[\"Month\"] = df_eda[\"Month\"].replace([1,2,3,4,5,6,7,8,9,10,11,12],months)\n"
   ]
  },
  {
   "cell_type": "code",
   "execution_count": 12,
   "id": "ec440510-5c45-4855-93ae-9c4649c5581e",
   "metadata": {},
   "outputs": [
    {
     "data": {
      "text/html": [
       "<div>\n",
       "<style scoped>\n",
       "    .dataframe tbody tr th:only-of-type {\n",
       "        vertical-align: middle;\n",
       "    }\n",
       "\n",
       "    .dataframe tbody tr th {\n",
       "        vertical-align: top;\n",
       "    }\n",
       "\n",
       "    .dataframe thead th {\n",
       "        text-align: right;\n",
       "    }\n",
       "</style>\n",
       "<table border=\"1\" class=\"dataframe\">\n",
       "  <thead>\n",
       "    <tr style=\"text-align: right;\">\n",
       "      <th></th>\n",
       "      <th>Location</th>\n",
       "      <th>Date_Time</th>\n",
       "      <th>Temperature_C</th>\n",
       "      <th>Humidity_pct</th>\n",
       "      <th>Precipitation_mm</th>\n",
       "      <th>Wind_Speed_kmh</th>\n",
       "      <th>Month</th>\n",
       "      <th>Year</th>\n",
       "    </tr>\n",
       "  </thead>\n",
       "  <tbody>\n",
       "    <tr>\n",
       "      <th>0</th>\n",
       "      <td>San Diego</td>\n",
       "      <td>2024-05-11 09:30:00</td>\n",
       "      <td>11.632436</td>\n",
       "      <td>38.820175</td>\n",
       "      <td>4.607511</td>\n",
       "      <td>28.732951</td>\n",
       "      <td>Mayo</td>\n",
       "      <td>2024</td>\n",
       "    </tr>\n",
       "    <tr>\n",
       "      <th>1</th>\n",
       "      <td>Philadelphia</td>\n",
       "      <td>2024-02-26 17:32:00</td>\n",
       "      <td>-8.628976</td>\n",
       "      <td>54.074474</td>\n",
       "      <td>3.183720</td>\n",
       "      <td>26.367303</td>\n",
       "      <td>Febrero</td>\n",
       "      <td>2024</td>\n",
       "    </tr>\n",
       "    <tr>\n",
       "      <th>2</th>\n",
       "      <td>San Antonio</td>\n",
       "      <td>2024-04-29 13:23:00</td>\n",
       "      <td>39.808213</td>\n",
       "      <td>72.899908</td>\n",
       "      <td>9.598282</td>\n",
       "      <td>29.898622</td>\n",
       "      <td>Abril</td>\n",
       "      <td>2024</td>\n",
       "    </tr>\n",
       "    <tr>\n",
       "      <th>3</th>\n",
       "      <td>San Diego</td>\n",
       "      <td>2024-01-21 08:54:00</td>\n",
       "      <td>27.341055</td>\n",
       "      <td>49.023236</td>\n",
       "      <td>9.166543</td>\n",
       "      <td>27.473896</td>\n",
       "      <td>Enero</td>\n",
       "      <td>2024</td>\n",
       "    </tr>\n",
       "    <tr>\n",
       "      <th>4</th>\n",
       "      <td>San Jose</td>\n",
       "      <td>2024-01-13 02:10:00</td>\n",
       "      <td>1.881883</td>\n",
       "      <td>65.742325</td>\n",
       "      <td>0.221709</td>\n",
       "      <td>1.073112</td>\n",
       "      <td>Enero</td>\n",
       "      <td>2024</td>\n",
       "    </tr>\n",
       "    <tr>\n",
       "      <th>...</th>\n",
       "      <td>...</td>\n",
       "      <td>...</td>\n",
       "      <td>...</td>\n",
       "      <td>...</td>\n",
       "      <td>...</td>\n",
       "      <td>...</td>\n",
       "      <td>...</td>\n",
       "      <td>...</td>\n",
       "    </tr>\n",
       "    <tr>\n",
       "      <th>786464</th>\n",
       "      <td>Dallas</td>\n",
       "      <td>2024-01-01 20:29:00</td>\n",
       "      <td>23.416877</td>\n",
       "      <td>37.705024</td>\n",
       "      <td>3.819833</td>\n",
       "      <td>16.538119</td>\n",
       "      <td>Enero</td>\n",
       "      <td>2024</td>\n",
       "    </tr>\n",
       "    <tr>\n",
       "      <th>786465</th>\n",
       "      <td>San Antonio</td>\n",
       "      <td>2024-01-20 15:59:00</td>\n",
       "      <td>6.759080</td>\n",
       "      <td>40.731036</td>\n",
       "      <td>8.182785</td>\n",
       "      <td>29.005558</td>\n",
       "      <td>Enero</td>\n",
       "      <td>2024</td>\n",
       "    </tr>\n",
       "    <tr>\n",
       "      <th>786466</th>\n",
       "      <td>New York</td>\n",
       "      <td>2024-04-14 08:30:00</td>\n",
       "      <td>15.664465</td>\n",
       "      <td>62.201884</td>\n",
       "      <td>3.987558</td>\n",
       "      <td>0.403909</td>\n",
       "      <td>Abril</td>\n",
       "      <td>2024</td>\n",
       "    </tr>\n",
       "    <tr>\n",
       "      <th>786467</th>\n",
       "      <td>Chicago</td>\n",
       "      <td>2024-05-12 20:10:00</td>\n",
       "      <td>18.999994</td>\n",
       "      <td>63.703245</td>\n",
       "      <td>4.294325</td>\n",
       "      <td>6.326036</td>\n",
       "      <td>Mayo</td>\n",
       "      <td>2024</td>\n",
       "    </tr>\n",
       "    <tr>\n",
       "      <th>786468</th>\n",
       "      <td>New York</td>\n",
       "      <td>2024-04-16 16:11:00</td>\n",
       "      <td>10.725351</td>\n",
       "      <td>43.804584</td>\n",
       "      <td>1.883292</td>\n",
       "      <td>15.363828</td>\n",
       "      <td>Abril</td>\n",
       "      <td>2024</td>\n",
       "    </tr>\n",
       "  </tbody>\n",
       "</table>\n",
       "<p>786469 rows × 8 columns</p>\n",
       "</div>"
      ],
      "text/plain": [
       "            Location           Date_Time  Temperature_C  Humidity_pct  \\\n",
       "0          San Diego 2024-05-11 09:30:00      11.632436     38.820175   \n",
       "1       Philadelphia 2024-02-26 17:32:00      -8.628976     54.074474   \n",
       "2        San Antonio 2024-04-29 13:23:00      39.808213     72.899908   \n",
       "3          San Diego 2024-01-21 08:54:00      27.341055     49.023236   \n",
       "4           San Jose 2024-01-13 02:10:00       1.881883     65.742325   \n",
       "...              ...                 ...            ...           ...   \n",
       "786464        Dallas 2024-01-01 20:29:00      23.416877     37.705024   \n",
       "786465   San Antonio 2024-01-20 15:59:00       6.759080     40.731036   \n",
       "786466      New York 2024-04-14 08:30:00      15.664465     62.201884   \n",
       "786467       Chicago 2024-05-12 20:10:00      18.999994     63.703245   \n",
       "786468      New York 2024-04-16 16:11:00      10.725351     43.804584   \n",
       "\n",
       "        Precipitation_mm  Wind_Speed_kmh    Month  Year  \n",
       "0               4.607511       28.732951     Mayo  2024  \n",
       "1               3.183720       26.367303  Febrero  2024  \n",
       "2               9.598282       29.898622    Abril  2024  \n",
       "3               9.166543       27.473896    Enero  2024  \n",
       "4               0.221709        1.073112    Enero  2024  \n",
       "...                  ...             ...      ...   ...  \n",
       "786464          3.819833       16.538119    Enero  2024  \n",
       "786465          8.182785       29.005558    Enero  2024  \n",
       "786466          3.987558        0.403909    Abril  2024  \n",
       "786467          4.294325        6.326036     Mayo  2024  \n",
       "786468          1.883292       15.363828    Abril  2024  \n",
       "\n",
       "[786469 rows x 8 columns]"
      ]
     },
     "execution_count": 12,
     "metadata": {},
     "output_type": "execute_result"
    }
   ],
   "source": [
    "df_eda"
   ]
  },
  {
   "cell_type": "markdown",
   "id": "1033c16e-f1a2-411f-bdfd-5f5a40ab4ef6",
   "metadata": {},
   "source": [
    "### 2.2. Implementar funciones que ayuden a calcular estadísticas descriptivas como la media, mediana y desviación estándar de las variables numéricas"
   ]
  },
  {
   "cell_type": "markdown",
   "id": "188aa93e-b146-4245-9982-4ae54aae44ca",
   "metadata": {},
   "source": [
    "***2.2.1. Se define la función stats para obtener mediante los métodos mean(), median() y std() el promedio, la media y la desviación estándar de un data frame***"
   ]
  },
  {
   "cell_type": "code",
   "execution_count": 13,
   "id": "20a3db10-2121-4f52-a579-14eef2c86097",
   "metadata": {},
   "outputs": [],
   "source": [
    "def stats(df,list_1, list_2):\n",
    "    dfmean = df.groupby(list_1)[list_2].mean().reset_index()\n",
    "    dfmed = df.groupby(list_1)[list_2].median().reset_index()\n",
    "    dfstd = df.groupby(list_1)[list_2].std().reset_index()\n",
    "    return dfmean,dfmed,dfstd"
   ]
  },
  {
   "cell_type": "markdown",
   "id": "1afc58a4-2336-49dc-8779-e1a25c51b93e",
   "metadata": {},
   "source": [
    "**2.2.1.1.Se utiliza la función stats con las columnas correspondientes al data frame del proyecto**"
   ]
  },
  {
   "cell_type": "code",
   "execution_count": 14,
   "id": "c77dd527-8963-4d46-8de3-a4bfea65ad45",
   "metadata": {},
   "outputs": [
    {
     "name": "stdout",
     "output_type": "stream",
     "text": [
      "Mean\n"
     ]
    },
    {
     "data": {
      "text/html": [
       "<div>\n",
       "<style scoped>\n",
       "    .dataframe tbody tr th:only-of-type {\n",
       "        vertical-align: middle;\n",
       "    }\n",
       "\n",
       "    .dataframe tbody tr th {\n",
       "        vertical-align: top;\n",
       "    }\n",
       "\n",
       "    .dataframe thead th {\n",
       "        text-align: right;\n",
       "    }\n",
       "</style>\n",
       "<table border=\"1\" class=\"dataframe\">\n",
       "  <thead>\n",
       "    <tr style=\"text-align: right;\">\n",
       "      <th></th>\n",
       "      <th>Location</th>\n",
       "      <th>Month</th>\n",
       "      <th>Temperature_C</th>\n",
       "      <th>Humidity_pct</th>\n",
       "      <th>Precipitation_mm</th>\n",
       "      <th>Wind_Speed_kmh</th>\n",
       "    </tr>\n",
       "  </thead>\n",
       "  <tbody>\n",
       "    <tr>\n",
       "      <th>0</th>\n",
       "      <td>Chicago</td>\n",
       "      <td>Abril</td>\n",
       "      <td>15.106425</td>\n",
       "      <td>60.005707</td>\n",
       "      <td>4.957399</td>\n",
       "      <td>14.972307</td>\n",
       "    </tr>\n",
       "    <tr>\n",
       "      <th>1</th>\n",
       "      <td>Chicago</td>\n",
       "      <td>Enero</td>\n",
       "      <td>14.902424</td>\n",
       "      <td>59.957304</td>\n",
       "      <td>5.031272</td>\n",
       "      <td>15.050372</td>\n",
       "    </tr>\n",
       "    <tr>\n",
       "      <th>2</th>\n",
       "      <td>Chicago</td>\n",
       "      <td>Febrero</td>\n",
       "      <td>15.027412</td>\n",
       "      <td>60.071065</td>\n",
       "      <td>4.976979</td>\n",
       "      <td>14.943057</td>\n",
       "    </tr>\n",
       "    <tr>\n",
       "      <th>3</th>\n",
       "      <td>Chicago</td>\n",
       "      <td>Marzo</td>\n",
       "      <td>15.125221</td>\n",
       "      <td>60.162028</td>\n",
       "      <td>5.015087</td>\n",
       "      <td>15.084388</td>\n",
       "    </tr>\n",
       "    <tr>\n",
       "      <th>4</th>\n",
       "      <td>Chicago</td>\n",
       "      <td>Mayo</td>\n",
       "      <td>14.871022</td>\n",
       "      <td>60.378065</td>\n",
       "      <td>5.057270</td>\n",
       "      <td>14.859463</td>\n",
       "    </tr>\n",
       "  </tbody>\n",
       "</table>\n",
       "</div>"
      ],
      "text/plain": [
       "  Location    Month  Temperature_C  Humidity_pct  Precipitation_mm  \\\n",
       "0  Chicago    Abril      15.106425     60.005707          4.957399   \n",
       "1  Chicago    Enero      14.902424     59.957304          5.031272   \n",
       "2  Chicago  Febrero      15.027412     60.071065          4.976979   \n",
       "3  Chicago    Marzo      15.125221     60.162028          5.015087   \n",
       "4  Chicago     Mayo      14.871022     60.378065          5.057270   \n",
       "\n",
       "   Wind_Speed_kmh  \n",
       "0       14.972307  \n",
       "1       15.050372  \n",
       "2       14.943057  \n",
       "3       15.084388  \n",
       "4       14.859463  "
      ]
     },
     "metadata": {},
     "output_type": "display_data"
    },
    {
     "name": "stdout",
     "output_type": "stream",
     "text": [
      "Median\n"
     ]
    },
    {
     "data": {
      "text/html": [
       "<div>\n",
       "<style scoped>\n",
       "    .dataframe tbody tr th:only-of-type {\n",
       "        vertical-align: middle;\n",
       "    }\n",
       "\n",
       "    .dataframe tbody tr th {\n",
       "        vertical-align: top;\n",
       "    }\n",
       "\n",
       "    .dataframe thead th {\n",
       "        text-align: right;\n",
       "    }\n",
       "</style>\n",
       "<table border=\"1\" class=\"dataframe\">\n",
       "  <thead>\n",
       "    <tr style=\"text-align: right;\">\n",
       "      <th></th>\n",
       "      <th>Location</th>\n",
       "      <th>Month</th>\n",
       "      <th>Temperature_C</th>\n",
       "      <th>Humidity_pct</th>\n",
       "      <th>Precipitation_mm</th>\n",
       "      <th>Wind_Speed_kmh</th>\n",
       "    </tr>\n",
       "  </thead>\n",
       "  <tbody>\n",
       "    <tr>\n",
       "      <th>0</th>\n",
       "      <td>Chicago</td>\n",
       "      <td>Abril</td>\n",
       "      <td>15.313469</td>\n",
       "      <td>59.871132</td>\n",
       "      <td>4.942031</td>\n",
       "      <td>14.900054</td>\n",
       "    </tr>\n",
       "    <tr>\n",
       "      <th>1</th>\n",
       "      <td>Chicago</td>\n",
       "      <td>Enero</td>\n",
       "      <td>14.689596</td>\n",
       "      <td>60.149283</td>\n",
       "      <td>5.053122</td>\n",
       "      <td>15.060202</td>\n",
       "    </tr>\n",
       "    <tr>\n",
       "      <th>2</th>\n",
       "      <td>Chicago</td>\n",
       "      <td>Febrero</td>\n",
       "      <td>15.103276</td>\n",
       "      <td>60.068930</td>\n",
       "      <td>4.955840</td>\n",
       "      <td>14.832472</td>\n",
       "    </tr>\n",
       "    <tr>\n",
       "      <th>3</th>\n",
       "      <td>Chicago</td>\n",
       "      <td>Marzo</td>\n",
       "      <td>15.176030</td>\n",
       "      <td>60.280387</td>\n",
       "      <td>5.020941</td>\n",
       "      <td>15.154453</td>\n",
       "    </tr>\n",
       "    <tr>\n",
       "      <th>4</th>\n",
       "      <td>Chicago</td>\n",
       "      <td>Mayo</td>\n",
       "      <td>14.574845</td>\n",
       "      <td>60.375135</td>\n",
       "      <td>5.026269</td>\n",
       "      <td>14.834313</td>\n",
       "    </tr>\n",
       "  </tbody>\n",
       "</table>\n",
       "</div>"
      ],
      "text/plain": [
       "  Location    Month  Temperature_C  Humidity_pct  Precipitation_mm  \\\n",
       "0  Chicago    Abril      15.313469     59.871132          4.942031   \n",
       "1  Chicago    Enero      14.689596     60.149283          5.053122   \n",
       "2  Chicago  Febrero      15.103276     60.068930          4.955840   \n",
       "3  Chicago    Marzo      15.176030     60.280387          5.020941   \n",
       "4  Chicago     Mayo      14.574845     60.375135          5.026269   \n",
       "\n",
       "   Wind_Speed_kmh  \n",
       "0       14.900054  \n",
       "1       15.060202  \n",
       "2       14.832472  \n",
       "3       15.154453  \n",
       "4       14.834313  "
      ]
     },
     "metadata": {},
     "output_type": "display_data"
    },
    {
     "name": "stdout",
     "output_type": "stream",
     "text": [
      "Standard Deviation\n"
     ]
    },
    {
     "data": {
      "text/html": [
       "<div>\n",
       "<style scoped>\n",
       "    .dataframe tbody tr th:only-of-type {\n",
       "        vertical-align: middle;\n",
       "    }\n",
       "\n",
       "    .dataframe tbody tr th {\n",
       "        vertical-align: top;\n",
       "    }\n",
       "\n",
       "    .dataframe thead th {\n",
       "        text-align: right;\n",
       "    }\n",
       "</style>\n",
       "<table border=\"1\" class=\"dataframe\">\n",
       "  <thead>\n",
       "    <tr style=\"text-align: right;\">\n",
       "      <th></th>\n",
       "      <th>Location</th>\n",
       "      <th>Month</th>\n",
       "      <th>Temperature_C</th>\n",
       "      <th>Humidity_pct</th>\n",
       "      <th>Precipitation_mm</th>\n",
       "      <th>Wind_Speed_kmh</th>\n",
       "    </tr>\n",
       "  </thead>\n",
       "  <tbody>\n",
       "    <tr>\n",
       "      <th>0</th>\n",
       "      <td>Chicago</td>\n",
       "      <td>Abril</td>\n",
       "      <td>14.463734</td>\n",
       "      <td>17.396248</td>\n",
       "      <td>2.881736</td>\n",
       "      <td>8.647166</td>\n",
       "    </tr>\n",
       "    <tr>\n",
       "      <th>1</th>\n",
       "      <td>Chicago</td>\n",
       "      <td>Enero</td>\n",
       "      <td>14.511919</td>\n",
       "      <td>17.348793</td>\n",
       "      <td>2.895118</td>\n",
       "      <td>8.693514</td>\n",
       "    </tr>\n",
       "    <tr>\n",
       "      <th>2</th>\n",
       "      <td>Chicago</td>\n",
       "      <td>Febrero</td>\n",
       "      <td>14.434121</td>\n",
       "      <td>17.320035</td>\n",
       "      <td>2.888508</td>\n",
       "      <td>8.653744</td>\n",
       "    </tr>\n",
       "    <tr>\n",
       "      <th>3</th>\n",
       "      <td>Chicago</td>\n",
       "      <td>Marzo</td>\n",
       "      <td>14.439830</td>\n",
       "      <td>17.329353</td>\n",
       "      <td>2.890989</td>\n",
       "      <td>8.655504</td>\n",
       "    </tr>\n",
       "    <tr>\n",
       "      <th>4</th>\n",
       "      <td>Chicago</td>\n",
       "      <td>Mayo</td>\n",
       "      <td>14.325468</td>\n",
       "      <td>17.341572</td>\n",
       "      <td>2.881477</td>\n",
       "      <td>8.651774</td>\n",
       "    </tr>\n",
       "  </tbody>\n",
       "</table>\n",
       "</div>"
      ],
      "text/plain": [
       "  Location    Month  Temperature_C  Humidity_pct  Precipitation_mm  \\\n",
       "0  Chicago    Abril      14.463734     17.396248          2.881736   \n",
       "1  Chicago    Enero      14.511919     17.348793          2.895118   \n",
       "2  Chicago  Febrero      14.434121     17.320035          2.888508   \n",
       "3  Chicago    Marzo      14.439830     17.329353          2.890989   \n",
       "4  Chicago     Mayo      14.325468     17.341572          2.881477   \n",
       "\n",
       "   Wind_Speed_kmh  \n",
       "0        8.647166  \n",
       "1        8.693514  \n",
       "2        8.653744  \n",
       "3        8.655504  \n",
       "4        8.651774  "
      ]
     },
     "metadata": {},
     "output_type": "display_data"
    }
   ],
   "source": [
    "dfmean,dfmed,dfstd = stats(df_eda,[\"Location\",\"Month\"],[\"Temperature_C\",\"Humidity_pct\",\"Precipitation_mm\",\"Wind_Speed_kmh\"])\n",
    "print(\"Mean\")\n",
    "display(dfmean.head())\n",
    "print(\"Median\")\n",
    "display(dfmed.head())\n",
    "print(\"Standard Deviation\")\n",
    "display(dfstd.head())"
   ]
  },
  {
   "cell_type": "markdown",
   "id": "d4db1d49-d2ec-44ad-ade0-cfeb177f4f24",
   "metadata": {},
   "source": [
    "### 2.3. Realiza análisis específicos al conjunto de datos"
   ]
  },
  {
   "cell_type": "markdown",
   "id": "e69cd6b0-d642-41c0-88f3-8fb8130e71f1",
   "metadata": {},
   "source": [
    "***2.3.1 Se realizan agrupaciones con groupby() entre las columan Month, Temperature_C, Location, Precipitation_mm, Wind_Spedd_kmh para poder analizar los datos***"
   ]
  },
  {
   "cell_type": "code",
   "execution_count": 15,
   "id": "52962cbd-61fe-449b-8835-a52b6f04b020",
   "metadata": {},
   "outputs": [],
   "source": [
    "dfmean_month_temp= df_eda.groupby(\"Month\")[\"Temperature_C\"].mean().reset_index().round(2)\n",
    "\n",
    "dfsum_loc_precp= df_eda.groupby(\"Location\")[\"Precipitation_mm\"].sum().reset_index().round(2)\n",
    "\n",
    "dfmean_loc_wind= df_eda.groupby(\"Location\")[\"Wind_Speed_kmh\"].mean().reset_index().round(2)\n",
    "\n",
    "dfmean_loc_temp= df_eda.groupby(\"Location\")[\"Temperature_C\"].mean().reset_index().round(2)"
   ]
  },
  {
   "cell_type": "markdown",
   "id": "fdc18f47-2398-4e1d-af58-81b912fd1cc6",
   "metadata": {},
   "source": [
    "**2.3.1.1 Se obtiene el mes con la temperatura promedio más alta y más baja**"
   ]
  },
  {
   "cell_type": "code",
   "execution_count": 16,
   "id": "6d556c46-cd9a-42f4-a514-093983bbf21d",
   "metadata": {},
   "outputs": [
    {
     "data": {
      "text/plain": [
       "Month             Mayo\n",
       "Temperature_C    15.02\n",
       "dtype: object"
      ]
     },
     "metadata": {},
     "output_type": "display_data"
    },
    {
     "name": "stdout",
     "output_type": "stream",
     "text": [
      "\n"
     ]
    },
    {
     "data": {
      "text/plain": [
       "Month            Abril\n",
       "Temperature_C    14.46\n",
       "dtype: object"
      ]
     },
     "metadata": {},
     "output_type": "display_data"
    }
   ],
   "source": [
    "display(dfmean_month_temp.max())\n",
    "print()\n",
    "display(dfmean_month_temp.min())"
   ]
  },
  {
   "cell_type": "markdown",
   "id": "d57cbe52-c96e-4dae-bd87-b72748a544a8",
   "metadata": {},
   "source": [
    "**2.3.1.2 Se obtiene el lugar con mayor y menor precipitación**"
   ]
  },
  {
   "cell_type": "code",
   "execution_count": 17,
   "id": "fd5468fb-2db9-4cd0-bb55-a8bb85d986d1",
   "metadata": {},
   "outputs": [
    {
     "data": {
      "text/plain": [
       "Location             San Jose\n",
       "Precipitation_mm    480435.25\n",
       "dtype: object"
      ]
     },
     "metadata": {},
     "output_type": "display_data"
    },
    {
     "name": "stdout",
     "output_type": "stream",
     "text": [
      "\n"
     ]
    },
    {
     "data": {
      "text/plain": [
       "Location              Chicago\n",
       "Precipitation_mm    392095.98\n",
       "dtype: object"
      ]
     },
     "metadata": {},
     "output_type": "display_data"
    }
   ],
   "source": [
    "display(dfsum_loc_precp.max())\n",
    "print()\n",
    "display(dfsum_loc_precp.min())"
   ]
  },
  {
   "cell_type": "markdown",
   "id": "9bc7c061-c27e-4800-a18e-405bdaaa8ccc",
   "metadata": {},
   "source": [
    "**2.3.1.3. Se obtiene los lugares con la velocidad del viento promedio más alta y más baja**"
   ]
  },
  {
   "cell_type": "code",
   "execution_count": 18,
   "id": "9d32c180-5c47-4862-a319-44dea0505e50",
   "metadata": {},
   "outputs": [
    {
     "data": {
      "text/plain": [
       "Location          San Jose\n",
       "Wind_Speed_kmh       15.06\n",
       "dtype: object"
      ]
     },
     "metadata": {},
     "output_type": "display_data"
    },
    {
     "name": "stdout",
     "output_type": "stream",
     "text": [
      "\n"
     ]
    },
    {
     "data": {
      "text/plain": [
       "Location          Chicago\n",
       "Wind_Speed_kmh      14.94\n",
       "dtype: object"
      ]
     },
     "metadata": {},
     "output_type": "display_data"
    }
   ],
   "source": [
    "display(dfmean_loc_wind.max())\n",
    "print()\n",
    "display(dfmean_loc_wind.min())"
   ]
  },
  {
   "cell_type": "markdown",
   "id": "1c695ff9-5a3c-4435-9718-e30d0f574708",
   "metadata": {},
   "source": [
    "## 3. Manipulación de Datos con Pandas:"
   ]
  },
  {
   "cell_type": "markdown",
   "id": "5d5f85a3-92a9-478c-ba4c-f619b82727da",
   "metadata": {},
   "source": [
    "### 3.1. Crear funciones para realizar operaciones de agrupamiento y agregación"
   ]
  },
  {
   "cell_type": "code",
   "execution_count": 19,
   "id": "8d08f2cd-ba91-4823-a313-1ba54e114368",
   "metadata": {},
   "outputs": [],
   "source": [
    "# Se realizó previamente en el punto 2.3."
   ]
  },
  {
   "cell_type": "markdown",
   "id": "1a985309-90af-4557-b5d0-203663bf4018",
   "metadata": {},
   "source": [
    "### 3.2. Crear nuevas columnas derivadas de los datos existentes"
   ]
  },
  {
   "cell_type": "code",
   "execution_count": 20,
   "id": "4788d841-9f3e-44ba-9390-7e75cf8f70f7",
   "metadata": {},
   "outputs": [],
   "source": [
    "# Sensación térmica Steadman\n",
    "T = df_eda[\"Temperature_C\"]\n",
    "V = df_eda[\"Wind_Speed_kmh\"]*0.277778\n",
    "H = df_eda[\"Humidity_pct\"]\n",
    "SC = 35.74+0.6215*T-35.75*(V**0.16)+0.4275*T*(V**0.16)*(1-0.005*(100-H))\n",
    "SC = 1.41-1.162*V+0.980*T+0.0124*V**2+0.0185*(V*T)"
   ]
  },
  {
   "cell_type": "code",
   "execution_count": 21,
   "id": "368226f3-cf07-49d1-96ee-16ff5f88676c",
   "metadata": {},
   "outputs": [],
   "source": [
    "df_eda[\"Thermic sensation °C\"] = SC"
   ]
  },
  {
   "cell_type": "code",
   "execution_count": 22,
   "id": "983f96e7-6f8d-4462-a457-ca7772194fbc",
   "metadata": {},
   "outputs": [],
   "source": [
    "# Indice de Discomfort McPherson (1962)\n",
    "DI=T-0.55*(1-0.01*H)*(T-14.5)"
   ]
  },
  {
   "cell_type": "code",
   "execution_count": 23,
   "id": "772d493d-ded3-416a-a2db-ef21baabe0dd",
   "metadata": {},
   "outputs": [],
   "source": [
    "df_eda[\"Discomfort index\"] = DI"
   ]
  },
  {
   "cell_type": "code",
   "execution_count": 24,
   "id": "c52c7b06-640c-4968-8c90-4b1221ff2bc8",
   "metadata": {},
   "outputs": [],
   "source": [
    "# Indice de frío \n",
    "FC = 13.2+0.6215*T-11.37*V**0.16+0.3965*T*V**0.16"
   ]
  },
  {
   "cell_type": "code",
   "execution_count": 25,
   "id": "1827c5b8-fd5b-4c93-9866-982980c5c26f",
   "metadata": {},
   "outputs": [],
   "source": [
    "df_eda[\"Wind Chill °C\"] = FC"
   ]
  },
  {
   "cell_type": "markdown",
   "id": "c3ca9f0d-f1c4-474e-a5e5-3089f9a66166",
   "metadata": {},
   "source": [
    "### 3.3. Guardar el DataFrame modificado como archivo de Excel"
   ]
  },
  {
   "cell_type": "code",
   "execution_count": 27,
   "id": "7f3c739c-313e-4a5c-a72c-c23c57328fac",
   "metadata": {},
   "outputs": [],
   "source": [
    "df_eda.to_excel(\"Proyecto 1_df.xlsx\")"
   ]
  },
  {
   "cell_type": "markdown",
   "id": "58bb1149-8779-4b1c-844f-bcdf49154d45",
   "metadata": {},
   "source": [
    "## 4. Visualización de Datos Automatizada:"
   ]
  },
  {
   "cell_type": "markdown",
   "id": "1954dc1c-3aa8-438d-849f-403839a1b7e3",
   "metadata": {},
   "source": [
    "### 4.1. Implementar funciones que generen gráficos utilizando Matplotlib"
   ]
  },
  {
   "cell_type": "code",
   "execution_count": null,
   "id": "7686bb4f-b845-46c3-9cba-dd90cd673db8",
   "metadata": {},
   "outputs": [],
   "source": [
    "# Generate Figure and Axes \n",
    "\n",
    "cmap = plt.cm.get_cmap('plasma', len(dfsum_loc_precp[\"Location\"]))\n",
    "colores = [cmap(i) for i in range(len(dfsum_loc_precp[\"Precipitation_mm\"]))]\n",
    "\n",
    "# Insert data (average temperatures of a city during 8 days)\n",
    "location = np.array(dfsum_loc_precp[\"Location\"]) #1. Generar/preparar datos\n",
    "precip = np.array(dfsum_loc_precp[\"Precipitation_mm\"])\n",
    "\n",
    "# Define objects with figsize dimensiones: 12 inches for height and 8 inches for width\n",
    "fig, ax = plt.subplots(figsize=(12, 8)) #2. Crear esquema\n",
    "\n",
    "# Make plots with different marker and colors\n",
    "ax.barh(location, precip, color=colores) #3. Generar gráfico\n",
    "\n",
    "# Set labels and title\n",
    "ax.set_xlabel(\"Precipitation (mm)\") #4. Personalizar gráfico\n",
    "ax.set_ylabel(\"Locations\")\n",
    "ax.set_title(\"Gráficos de barras por Locación y Precipitación\")\n",
    "\n",
    "# Set a limit in y axis to start the plot \n",
    "#ax.set_ylim(0)\n",
    "\n",
    "# Show plot\n",
    "plt.show()"
   ]
  },
  {
   "cell_type": "code",
   "execution_count": null,
   "id": "fc642cad-8275-4ea1-9fa0-a4b666b04da3",
   "metadata": {},
   "outputs": [],
   "source": [
    "# Generate Figure and Axes \n",
    "\n",
    "# Insert data (average temperatures of a city during 8 days)\n",
    "location = np.array(dfmean_loc_temp[\"Location\"]) #1. Generar/preparar datos\n",
    "temp = np.array(dfmean_loc_temp[\"Temperature_C\"])\n",
    "\n",
    "# Define objects with figsize dimensiones: 12 inches for height and 8 inches for width\n",
    "fig, ax = plt.subplots(figsize=(12, 8)) #2. Crear esquema\n",
    "\n",
    "# Make plots with different marker and colors\n",
    "ax.plot(location, temp, marker=\"*\", markersize=12, color=\"c\") #3. Generar gráfico\n",
    "\n",
    "# Set labels and title\n",
    "ax.set_xlabel(\"Locations\") #4. Personalizar gráfico\n",
    "ax.set_ylabel(\"Temperature (°C)\")\n",
    "ax.set_title(\"Gráfica de línea por locación y temperatura\")\n",
    "\n",
    "# Set a limit in y axis to start the plot \n",
    "ax.set_ylim(12,17)\n",
    "\n",
    "# Show plot\n",
    "plt.show()"
   ]
  },
  {
   "cell_type": "markdown",
   "id": "2480f1b0-51a2-45cf-90b8-81e1787ce974",
   "metadata": {},
   "source": [
    "### 4.2. Implementar funciones que generen gráficos con Seaborn"
   ]
  },
  {
   "cell_type": "code",
   "execution_count": null,
   "id": "1a9c3688-28e5-4ca4-b495-637bbc473e5d",
   "metadata": {},
   "outputs": [],
   "source": [
    "#Define scheme\n",
    "fig, ax = plt.subplots(figsize=(10,6))\n",
    "\n",
    "#Create plot with seaborn\n",
    "sns.boxplot(data=df_eda, x=\"Month\", y=\"Temperature_C\", palette=[\"skyblue\",\"lightyellow\",\"lightgreen\",\"pink\",\"magenta\"])\n",
    "\n",
    "#Set labels and title\n",
    "ax.set_title(\"Barplot for Temperature by Months\")\n",
    "\n",
    "#Show plot\n",
    "plt.show()"
   ]
  },
  {
   "cell_type": "code",
   "execution_count": null,
   "id": "670006f3-46f6-40f4-a6b0-142723f05231",
   "metadata": {},
   "outputs": [],
   "source": [
    "#Define scheme\n",
    "fig, ax = plt.subplots(figsize=(10,6))\n",
    "\n",
    "#Create plot with seaborn\n",
    "sns.kdeplot(data=df_eda, x=\"Wind Chill °C\", color=\"c\")\n",
    "\n",
    "#Set labels and title\n",
    "ax.set_xlabel(\"Wind Chill °C\")\n",
    "ax.set_title(\"Histogram for wind chill\")\n",
    "\n",
    "#Show plot\n",
    "plt.show()"
   ]
  },
  {
   "cell_type": "code",
   "execution_count": null,
   "id": "14d9b6e7-300c-4015-89f3-459a2dc554b8",
   "metadata": {},
   "outputs": [],
   "source": [
    "df_loc = df_eda.loc[df_eda[\"Location\"]==\"Phoenix\"]\n",
    "\n",
    "#Define scheme\n",
    "fig, ax = plt.subplots(3,1,figsize=(10,6))\n",
    "\n",
    "#Create plot with seaborn\n",
    "sns.lineplot(data=df_loc, x=\"Month\", y=\"Humidity_pct\", ax=ax[0],color=\"c\")\n",
    "sns.lineplot(data=df_loc,x=\"Month\", y=\"Temperature_C\", ax=ax[1],color=\"c\")\n",
    "sns.barplot(data=df_loc,x=\"Month\", y=\"Precipitation_mm\", ax=ax[2], palette=[\"skyblue\",\"yellow\",\"lightgreen\",\"pink\",\"magenta\"])\n",
    "\n",
    "#Set labels and title\n",
    "fig.suptitle(\"Precipitación, Temperatura y Humedad mensual de Phoenix\")\n",
    "\n",
    "#Show plot\n",
    "plt.show()"
   ]
  },
  {
   "cell_type": "markdown",
   "id": "64108ab6-6b52-470c-a2f3-632dc61ca77b",
   "metadata": {},
   "source": [
    "### 4.3. Usar bucles para generar y guardar múltiples gráficos"
   ]
  },
  {
   "cell_type": "code",
   "execution_count": null,
   "id": "519d4390-07a3-4fae-96c2-6129ae2fd535",
   "metadata": {},
   "outputs": [],
   "source": [
    "def art_attack(df,graph_type_dict, column_object, column_measure):\n",
    "    k=1\n",
    "    for i in graph_type_dict.keys():\n",
    "    #    for i in graph_type_dict:\n",
    "        fig, ax = plt.subplots(figsize=(10,6))\n",
    "        \n",
    "        #Create plot with seaborn\n",
    "        if i in [\"histplot\",\"kdeplot\",\"countplot\"]:\n",
    "            eval(graph_type[i])(data= df, x=column_measure)\n",
    "        elif i in [\"lineplot\",\"boxplot\",\"barplot\"]:\n",
    "            eval(graph_type[i])(data=df, x=column_object, y=column_measure)\n",
    "        else:\n",
    "            print(\"Not in dictionary, sorry :(, keep trying\")\n",
    "        \n",
    "        #Set labels and title\n",
    "        ax.set_xlabel(column_measure)\n",
    "        ax.set_title(str(i)+\" of \"+str(column_measure))\n",
    "\n",
    "        # Save plot\n",
    "        fig.savefig(\"Plot_\"+str(k), dpi=400)\n",
    "        k+=1\n",
    "    \n",
    "    return\n"
   ]
  },
  {
   "cell_type": "code",
   "execution_count": null,
   "id": "86452676-5cf4-481b-8aec-8713d7fc4324",
   "metadata": {},
   "outputs": [],
   "source": [
    "graph_type= {\"lineplot\": \"sns.lineplot\",\"boxplot\": \"sns.boxplot\",\"histplot\": \"sns.histplot\",\"barplot\": \"sns.barplot\",\"kdeplot\": \"sns.kdeplot\"}"
   ]
  },
  {
   "cell_type": "code",
   "execution_count": null,
   "id": "6c5747bc-5171-4dda-ba79-3f11ce250223",
   "metadata": {},
   "outputs": [],
   "source": [
    "art_attack(df_eda,graph_type, \"Location\", \"Wind_Speed_kmh\")"
   ]
  },
  {
   "cell_type": "markdown",
   "id": "5612b084-517a-4d87-ad6d-08292c07db09",
   "metadata": {},
   "source": [
    "## Resultados"
   ]
  },
  {
   "cell_type": "markdown",
   "id": "fec1102a-c581-4615-8f60-67c6179439e0",
   "metadata": {},
   "source": [
    "- A partir de creación de la función cleaning(df) fue posible realizar una limpieza del dataframe, los métodos empleados dentro de ella permiten eliminar datos nulos (Dropna) y eliminar registros idénticos (Drop_duplicates). Además, dentro de este se resetearon los índices del datadrame (Reset_index).\n",
    "\n",
    "- Mediante el uso del método groupby y las funciones como .mean(), .median() y .std(). Esta función emplea como argumentos el dataframe y dos listas de interés: (i) la lista de variables categóricas de las agrupaciones que se desean realizar y (ii) la lista de variables numéricas.\n",
    "\n",
    "- Fue posible analizar los meses con temperatura promedio más alta y más baja, obtener locaciones con menor y mayor precipitación, e identificar los lugares con la velocidad promedio del viento más alta y más baja con el uso del método groupby y las agregaciones .max() y min(). Se indetificó que el mes con la temperatura promedio más alta fue abril con 14.46 grados centígrados y el mes con temperatura más baja fue mayo con 15.02 grados. La locación con temperatura y velocidad del viento más alta fue San José, por otro lato Chicago tuvo las más bajas.\n",
    "\n",
    "- A partir de los datos existentes, fue posible calcular la sensación térmica, el índice de discomfort y la sensación térmica en días fríos para cada registro.\n",
    "Mediante el diagrama de cajas y bigotes, se pudo graficar la temperatura por mes, en este se evidencia que la medina de aproximadamente 15 grados centígrados, lo que equivale al cuartil Q2 identificado por el método describe que es de 14.78 grados centígrados. También se identificó que no tiene datos atípicos.\n",
    "\n",
    "- Al analizar el gráfico de distribución de la sensación térmica en días fríos, se evidenció una distribución uniforme.\n"
   ]
  },
  {
   "cell_type": "markdown",
   "id": "e16140f9-dc4c-4271-ab7c-c37468752625",
   "metadata": {},
   "source": [
    "## Conclusiones"
   ]
  },
  {
   "cell_type": "markdown",
   "id": "27b3ca4a-a524-4061-9769-6bd312145d36",
   "metadata": {},
   "source": [
    "- A partir de la creación de la función cleaning(df) se obtuvo un data frame de 786.469 registros, se redujeron 213.531 registros del millón de datos que conformaban el data frame inicialmente. Entre los registros se encontraban datos nulos y datos duplicados.\n",
    "  \n",
    "- Al emplear métricas estadísticas claves fue posible: identificar que Chicago es la ciudad con mayor precipitación anual y de menor temperatura, y mayo fue el mes con mayo temperatura entre todas las locaciones del data frame.\n",
    "\n",
    "- Se concluye que Enero y Febrero son los meses con mayor precipitación promedio (7.48,7,54 mm), relacionándose con menor temperatura (9.91, y 10.09 °C) aumento de humedad (59.89,60.07 pct).\n"
   ]
  },
  {
   "cell_type": "markdown",
   "id": "d69effad-caab-4dc9-be07-e5403972cebd",
   "metadata": {},
   "source": [
    "## Recomendaciones"
   ]
  },
  {
   "cell_type": "markdown",
   "id": "0dfd6dc3-9ef8-4f60-b1cc-49e029c85544",
   "metadata": {},
   "source": [
    "- Para el análisis de datos de una manera eficiente, es importante reconocer que tipo de datos se procesarán. Es imprescindible el manejo de valores nulos y realizar la conversión de tipos de datos.\n",
    "- Realizar un análisis estadístico básico como las medidas de tendencia central (media, mediana y moda) para tener una noción de los valores típicos encontrados entre nuestros datos.\n",
    "- El empleo de histogramas o boxplot permite identificar de manera gráfica las frecuencias de datos y distribución de datos y es posible evidenciar valors atípicos."
   ]
  },
  {
   "cell_type": "markdown",
   "id": "d5617c09-4853-4af6-bd48-c9ea40760513",
   "metadata": {},
   "source": [
    "## Referencias Bibliográficas\n",
    "\n",
    "* Adegoke, O. O., & Dombo, T. P. (2019). Geospatial modeling of human thermal comfort in Akure Metropolis using Thom’s discomfort index. International Journal of Environment and Bioenergy, 14(1), 40-55.\n",
    "* Adekayi, P. E. (2009). Temperature Trends over Katsina. The Abuja Journal of Geography and Development, 97-106\n",
    "* Chimarro-Amaguaña, J. D., Chuqui-Barriga, F. A., Guamán-Cullispuma, D. P., & Quishpe-Farinango, C. I. (2023). El auge exponencial del lenguaje Python en el desarrollo tecnológico. Revista Científica INGENIAR: Ingeniería, Tecnología e Investigación. ISSN: 2737-6249., 6(12), 240-256.\n",
    "* Ryan, D., Gorfinkie, D., Bustos, E., Cruz, J., Ellinger, P., Fernández, R., ... & Scabin, F. (2016). Toma de decisiones y cambio climático: acercando la ciencia y la política en América Latina y el Caribe.\n",
    "* Quayle, R. G., & Steadman, R. G. (1998). The Steadman wind chill: An improvement over present scales. Weather and Forecasting, 13(4), 1187-1193."
   ]
  }
 ],
 "metadata": {
  "kernelspec": {
   "display_name": "Python 3 (ipykernel)",
   "language": "python",
   "name": "python3"
  },
  "language_info": {
   "codemirror_mode": {
    "name": "ipython",
    "version": 3
   },
   "file_extension": ".py",
   "mimetype": "text/x-python",
   "name": "python",
   "nbconvert_exporter": "python",
   "pygments_lexer": "ipython3",
   "version": "3.9.19"
  }
 },
 "nbformat": 4,
 "nbformat_minor": 5
}
